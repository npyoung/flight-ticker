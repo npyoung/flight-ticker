{
 "cells": [
  {
   "cell_type": "code",
   "execution_count": 1,
   "metadata": {},
   "outputs": [],
   "source": [
    "from FlightRadar24 import FlightRadar24API\n",
    "from math import radians, sin, cos, acos\n",
    "import toml"
   ]
  },
  {
   "cell_type": "code",
   "execution_count": 23,
   "metadata": {},
   "outputs": [],
   "source": [
    "config = toml.load(\"config.toml\")\n",
    "\n",
    "fr_api = FlightRadar24API(\n",
    "    user=config['flightradar24']['user'],\n",
    "    password=config['flightradar24']['password']\n",
    ")"
   ]
  },
  {
   "cell_type": "code",
   "execution_count": 32,
   "metadata": {},
   "outputs": [],
   "source": [
    "center = (37.537619, -122.168786)\n",
    "radius = 25 #km\n",
    "bounds = fr_api.get_bounds_by_point(*center, radius * 1000)"
   ]
  },
  {
   "cell_type": "code",
   "execution_count": 33,
   "metadata": {},
   "outputs": [
    {
     "data": {
      "text/plain": [
       "15"
      ]
     },
     "execution_count": 33,
     "metadata": {},
     "output_type": "execute_result"
    }
   ],
   "source": [
    "flights = fr_api.get_flights(bounds=bounds)\n",
    "flights = [flight for flight in flights if not flight.on_ground]\n",
    "len(flights)"
   ]
  },
  {
   "cell_type": "code",
   "execution_count": 34,
   "metadata": {},
   "outputs": [],
   "source": [
    "def distance(lat1, lon1, lat2, lon2) -> float:\n",
    "    lat1, lon1 = radians(lat1), radians(lon1)\n",
    "    lat2, lon2 = radians(lat2), radians(lon2)\n",
    "\n",
    "    return acos(sin(lat1) * sin(lat2) + cos(lat1) * cos(lat2) * cos(lon2 - lon1)) * 6371"
   ]
  },
  {
   "cell_type": "code",
   "execution_count": 35,
   "metadata": {},
   "outputs": [
    {
     "name": "stdout",
     "output_type": "stream",
     "text": [
      "N60603: 26.304888160727597\n",
      "SWA1653: 16.252593030136303\n",
      "SKW4927: 19.507417132205443\n",
      "N653ND: 23.68985275285331\n",
      "SWA3274: 6.845006049143599\n",
      "N1361M: 7.454375766766126\n",
      "N172EL: 12.990596639769192\n",
      "FDX3806: 13.094972427090223\n",
      "C210: 4.748950215809532\n",
      "QXE2065: 4.720254940494305\n",
      "N9526H: 15.974949017746537\n",
      "BE20: 20.389299868014348\n",
      "SWA1331: 13.040970150634807\n",
      "P210: 17.13455315291643\n",
      "SKW3714: 28.97237081058667\n"
     ]
    }
   ],
   "source": [
    "for flight in flights:\n",
    "    print(f\"{flight.callsign}: {distance(flight.latitude, flight.longitude, *center)}\")"
   ]
  },
  {
   "cell_type": "code",
   "execution_count": null,
   "metadata": {},
   "outputs": [],
   "source": []
  }
 ],
 "metadata": {
  "kernelspec": {
   "display_name": "Python 3.7.3 64-bit",
   "language": "python",
   "name": "python3"
  },
  "language_info": {
   "codemirror_mode": {
    "name": "ipython",
    "version": 3
   },
   "file_extension": ".py",
   "mimetype": "text/x-python",
   "name": "python",
   "nbconvert_exporter": "python",
   "pygments_lexer": "ipython3",
   "version": "3.12.1"
  },
  "orig_nbformat": 4,
  "vscode": {
   "interpreter": {
    "hash": "31f2aee4e71d21fbe5cf8b01ff0e069b9275f58929596ceb00d14d90e3e16cd6"
   }
  }
 },
 "nbformat": 4,
 "nbformat_minor": 2
}
